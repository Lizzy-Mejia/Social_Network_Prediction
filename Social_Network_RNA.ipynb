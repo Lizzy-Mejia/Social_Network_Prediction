{
 "cells": [
  {
   "cell_type": "code",
   "execution_count": 1,
   "id": "f371ec8f",
   "metadata": {},
   "outputs": [],
   "source": [
    "# importación de las librerias y bibliotecas que serán utilizadas para el algoritmo de redes neuronales\n",
    "import pandas as pd\n",
    "import numpy as np\n",
    "from sklearn.model_selection import train_test_split\n",
    "from sklearn.preprocessing import RobustScaler\n",
    "import matplotlib.pyplot as plt\n",
    "import seaborn as sns"
   ]
  },
  {
   "cell_type": "code",
   "execution_count": 2,
   "id": "c387c38f",
   "metadata": {},
   "outputs": [],
   "source": [
    "#Lectura del dataset ya analizado y con los cambios necesarios aplicados\n",
    "df_new = pd.read_csv('df_clear.csv')"
   ]
  },
  {
   "cell_type": "code",
   "execution_count": 3,
   "id": "abdf9ec7",
   "metadata": {},
   "outputs": [
    {
     "data": {
      "text/html": [
       "<div>\n",
       "<style scoped>\n",
       "    .dataframe tbody tr th:only-of-type {\n",
       "        vertical-align: middle;\n",
       "    }\n",
       "\n",
       "    .dataframe tbody tr th {\n",
       "        vertical-align: top;\n",
       "    }\n",
       "\n",
       "    .dataframe thead th {\n",
       "        text-align: right;\n",
       "    }\n",
       "</style>\n",
       "<table border=\"1\" class=\"dataframe\">\n",
       "  <thead>\n",
       "    <tr style=\"text-align: right;\">\n",
       "      <th></th>\n",
       "      <th>Age</th>\n",
       "      <th>EstimatedSalary</th>\n",
       "      <th>Purchased</th>\n",
       "      <th>Gender_Male</th>\n",
       "    </tr>\n",
       "  </thead>\n",
       "  <tbody>\n",
       "    <tr>\n",
       "      <th>0</th>\n",
       "      <td>19.0</td>\n",
       "      <td>19000.0</td>\n",
       "      <td>0</td>\n",
       "      <td>1</td>\n",
       "    </tr>\n",
       "    <tr>\n",
       "      <th>1</th>\n",
       "      <td>35.0</td>\n",
       "      <td>20000.0</td>\n",
       "      <td>0</td>\n",
       "      <td>1</td>\n",
       "    </tr>\n",
       "    <tr>\n",
       "      <th>2</th>\n",
       "      <td>26.0</td>\n",
       "      <td>43000.0</td>\n",
       "      <td>0</td>\n",
       "      <td>0</td>\n",
       "    </tr>\n",
       "    <tr>\n",
       "      <th>3</th>\n",
       "      <td>27.0</td>\n",
       "      <td>57000.0</td>\n",
       "      <td>0</td>\n",
       "      <td>0</td>\n",
       "    </tr>\n",
       "    <tr>\n",
       "      <th>4</th>\n",
       "      <td>19.0</td>\n",
       "      <td>76000.0</td>\n",
       "      <td>0</td>\n",
       "      <td>1</td>\n",
       "    </tr>\n",
       "    <tr>\n",
       "      <th>...</th>\n",
       "      <td>...</td>\n",
       "      <td>...</td>\n",
       "      <td>...</td>\n",
       "      <td>...</td>\n",
       "    </tr>\n",
       "    <tr>\n",
       "      <th>395</th>\n",
       "      <td>46.0</td>\n",
       "      <td>41000.0</td>\n",
       "      <td>1</td>\n",
       "      <td>0</td>\n",
       "    </tr>\n",
       "    <tr>\n",
       "      <th>396</th>\n",
       "      <td>51.0</td>\n",
       "      <td>23000.0</td>\n",
       "      <td>1</td>\n",
       "      <td>1</td>\n",
       "    </tr>\n",
       "    <tr>\n",
       "      <th>397</th>\n",
       "      <td>50.0</td>\n",
       "      <td>20000.0</td>\n",
       "      <td>1</td>\n",
       "      <td>0</td>\n",
       "    </tr>\n",
       "    <tr>\n",
       "      <th>398</th>\n",
       "      <td>36.0</td>\n",
       "      <td>33000.0</td>\n",
       "      <td>0</td>\n",
       "      <td>1</td>\n",
       "    </tr>\n",
       "    <tr>\n",
       "      <th>399</th>\n",
       "      <td>49.0</td>\n",
       "      <td>36000.0</td>\n",
       "      <td>1</td>\n",
       "      <td>0</td>\n",
       "    </tr>\n",
       "  </tbody>\n",
       "</table>\n",
       "<p>400 rows × 4 columns</p>\n",
       "</div>"
      ],
      "text/plain": [
       "      Age  EstimatedSalary  Purchased  Gender_Male\n",
       "0    19.0          19000.0          0            1\n",
       "1    35.0          20000.0          0            1\n",
       "2    26.0          43000.0          0            0\n",
       "3    27.0          57000.0          0            0\n",
       "4    19.0          76000.0          0            1\n",
       "..    ...              ...        ...          ...\n",
       "395  46.0          41000.0          1            0\n",
       "396  51.0          23000.0          1            1\n",
       "397  50.0          20000.0          1            0\n",
       "398  36.0          33000.0          0            1\n",
       "399  49.0          36000.0          1            0\n",
       "\n",
       "[400 rows x 4 columns]"
      ]
     },
     "execution_count": 3,
     "metadata": {},
     "output_type": "execute_result"
    }
   ],
   "source": [
    "#Visualización del conjunto de datos\n",
    "df_new"
   ]
  },
  {
   "cell_type": "code",
   "execution_count": 4,
   "id": "01303ca2",
   "metadata": {},
   "outputs": [],
   "source": [
    "#División del dataset en conjunto de entramiento y prueba\n",
    "from sklearn.model_selection import train_test_split\n",
    "df_train, df_test, = train_test_split(df_new, test_size = 0.25, random_state=0)"
   ]
  },
  {
   "cell_type": "code",
   "execution_count": 5,
   "id": "e4c9ddaf",
   "metadata": {},
   "outputs": [
    {
     "name": "stdout",
     "output_type": "stream",
     "text": [
      "Longitud del Training Set: 300\n",
      "Longitud del Validation Set: 100\n"
     ]
    }
   ],
   "source": [
    "#Verificación de las particiones realizadas\n",
    "print(\"Longitud del Training Set:\", len(df_train))\n",
    "print(\"Longitud del Validation Set:\", len(df_test))"
   ]
  },
  {
   "cell_type": "code",
   "execution_count": 6,
   "id": "6fe2faee",
   "metadata": {},
   "outputs": [],
   "source": [
    "# Conjunto de datos de entrenamiento\n",
    "X_train = df_train.drop(\"Purchased\", axis=1)\n",
    "y_train = df_train[\"Purchased\"].copy()"
   ]
  },
  {
   "cell_type": "code",
   "execution_count": 7,
   "id": "788c7b6a",
   "metadata": {},
   "outputs": [],
   "source": [
    "# Conjunto de datos de validación\n",
    "X_val = df_test.drop(\"Purchased\", axis=1)\n",
    "y_val = df_test[\"Purchased\"].copy()"
   ]
  },
  {
   "cell_type": "code",
   "execution_count": 8,
   "id": "275d7bbd",
   "metadata": {},
   "outputs": [],
   "source": [
    "#Escalado de los datos del conjunto de entrenamiento \n",
    "scaler = RobustScaler()\n",
    "X_train_scaled = scaler.fit_transform(X_train)"
   ]
  },
  {
   "cell_type": "code",
   "execution_count": 9,
   "id": "cb96a3fb",
   "metadata": {},
   "outputs": [],
   "source": [
    "#Escalado de los datos del conjunto de prueba\n",
    "scaler = RobustScaler()\n",
    "X_val_scaled = scaler.fit_transform(X_val)"
   ]
  },
  {
   "cell_type": "code",
   "execution_count": 10,
   "id": "059b9322",
   "metadata": {},
   "outputs": [],
   "source": [
    "# Transformación a un DataFrame de Pandas\n",
    "X_train_scaled = pd.DataFrame(X_train_scaled, columns=X_train.columns, index=X_train.index)\n",
    "X_val_scaled = pd.DataFrame(X_val_scaled, columns=X_val.columns, index=X_val.index)"
   ]
  },
  {
   "cell_type": "markdown",
   "id": "e5f8ad96",
   "metadata": {},
   "source": [
    "## Entrenar y evaluar utilizando redes neuronales"
   ]
  },
  {
   "cell_type": "code",
   "execution_count": 11,
   "id": "709a8e93",
   "metadata": {},
   "outputs": [],
   "source": [
    "# Importación de Keras y librerías adicionales\n",
    "import keras\n",
    "from keras.models import Sequential\n",
    "from keras.layers import Dense"
   ]
  },
  {
   "cell_type": "code",
   "execution_count": 12,
   "id": "996d686c",
   "metadata": {},
   "outputs": [],
   "source": [
    "#Inicializar la red neuronal\n",
    "classifier = Sequential()\n",
    "#Definición de las capas de entrada y primera capa oculta \n",
    "classifier.add(Dense(units = 2, kernel_initializer = \"uniform\",  activation = \"relu\", input_dim = 3))\n",
    "#Segunda capa oculta \n",
    "classifier.add(Dense(units = 2, kernel_initializer = \"uniform\",  activation = \"relu\"))\n",
    "#Capa de salida\n",
    "classifier.add(Dense(units = 1, kernel_initializer = \"uniform\",  activation = \"sigmoid\"))"
   ]
  },
  {
   "cell_type": "code",
   "execution_count": 13,
   "id": "58089ad7",
   "metadata": {},
   "outputs": [],
   "source": [
    "# Compilación de la RNA\n",
    "classifier.compile(optimizer = \"adam\", loss = \"binary_crossentropy\", metrics = [\"accuracy\"])"
   ]
  },
  {
   "cell_type": "code",
   "execution_count": 14,
   "id": "650e3cf7",
   "metadata": {},
   "outputs": [
    {
     "name": "stdout",
     "output_type": "stream",
     "text": [
      "Epoch 1/50\n",
      "30/30 [==============================] - 0s 824us/step - loss: 0.6918 - accuracy: 0.6300\n",
      "Epoch 2/50\n",
      "30/30 [==============================] - 0s 929us/step - loss: 0.6892 - accuracy: 0.6300\n",
      "Epoch 3/50\n",
      "30/30 [==============================] - 0s 929us/step - loss: 0.6859 - accuracy: 0.6300\n",
      "Epoch 4/50\n",
      "30/30 [==============================] - 0s 819us/step - loss: 0.6824 - accuracy: 0.6300\n",
      "Epoch 5/50\n",
      "30/30 [==============================] - 0s 1ms/step - loss: 0.6776 - accuracy: 0.6300\n",
      "Epoch 6/50\n",
      "30/30 [==============================] - 0s 1ms/step - loss: 0.6703 - accuracy: 0.6300\n",
      "Epoch 7/50\n",
      "30/30 [==============================] - 0s 1ms/step - loss: 0.6599 - accuracy: 0.6300\n",
      "Epoch 8/50\n",
      "30/30 [==============================] - 0s 1ms/step - loss: 0.6455 - accuracy: 0.6300\n",
      "Epoch 9/50\n",
      "30/30 [==============================] - 0s 1ms/step - loss: 0.6289 - accuracy: 0.6300\n",
      "Epoch 10/50\n",
      "30/30 [==============================] - 0s 1ms/step - loss: 0.6107 - accuracy: 0.6300\n",
      "Epoch 11/50\n",
      "30/30 [==============================] - 0s 1ms/step - loss: 0.5917 - accuracy: 0.6300\n",
      "Epoch 12/50\n",
      "30/30 [==============================] - 0s 1ms/step - loss: 0.5739 - accuracy: 0.6300\n",
      "Epoch 13/50\n",
      "30/30 [==============================] - 0s 1ms/step - loss: 0.5581 - accuracy: 0.6300\n",
      "Epoch 14/50\n",
      "30/30 [==============================] - 0s 1ms/step - loss: 0.5435 - accuracy: 0.6300\n",
      "Epoch 15/50\n",
      "30/30 [==============================] - 0s 1ms/step - loss: 0.5319 - accuracy: 0.6300\n",
      "Epoch 16/50\n",
      "30/30 [==============================] - 0s 1ms/step - loss: 0.5210 - accuracy: 0.6300\n",
      "Epoch 17/50\n",
      "30/30 [==============================] - 0s 1ms/step - loss: 0.5119 - accuracy: 0.6300\n",
      "Epoch 18/50\n",
      "30/30 [==============================] - 0s 959us/step - loss: 0.5019 - accuracy: 0.6300\n",
      "Epoch 19/50\n",
      "30/30 [==============================] - 0s 1ms/step - loss: 0.4939 - accuracy: 0.6300\n",
      "Epoch 20/50\n",
      "30/30 [==============================] - 0s 714us/step - loss: 0.4864 - accuracy: 0.6300\n",
      "Epoch 21/50\n",
      "30/30 [==============================] - ETA: 0s - loss: 0.5080 - accuracy: 0.60 - 0s 964us/step - loss: 0.4797 - accuracy: 0.6300\n",
      "Epoch 22/50\n",
      "30/30 [==============================] - 0s 833us/step - loss: 0.4729 - accuracy: 0.6300\n",
      "Epoch 23/50\n",
      "30/30 [==============================] - 0s 776us/step - loss: 0.4667 - accuracy: 0.6300\n",
      "Epoch 24/50\n",
      "30/30 [==============================] - 0s 959us/step - loss: 0.4610 - accuracy: 0.6500\n",
      "Epoch 25/50\n",
      "30/30 [==============================] - 0s 825us/step - loss: 0.4555 - accuracy: 0.8067\n",
      "Epoch 26/50\n",
      "30/30 [==============================] - 0s 822us/step - loss: 0.4503 - accuracy: 0.8200\n",
      "Epoch 27/50\n",
      "30/30 [==============================] - 0s 1ms/step - loss: 0.4458 - accuracy: 0.8200\n",
      "Epoch 28/50\n",
      "30/30 [==============================] - 0s 1ms/step - loss: 0.4416 - accuracy: 0.8200\n",
      "Epoch 29/50\n",
      "30/30 [==============================] - 0s 1ms/step - loss: 0.4377 - accuracy: 0.8133\n",
      "Epoch 30/50\n",
      "30/30 [==============================] - 0s 1ms/step - loss: 0.4341 - accuracy: 0.8200\n",
      "Epoch 31/50\n",
      "30/30 [==============================] - 0s 999us/step - loss: 0.4304 - accuracy: 0.8167\n",
      "Epoch 32/50\n",
      "30/30 [==============================] - 0s 997us/step - loss: 0.4269 - accuracy: 0.8200\n",
      "Epoch 33/50\n",
      "30/30 [==============================] - 0s 1ms/step - loss: 0.4236 - accuracy: 0.8200\n",
      "Epoch 34/50\n",
      "30/30 [==============================] - 0s 1ms/step - loss: 0.4208 - accuracy: 0.8233\n",
      "Epoch 35/50\n",
      "30/30 [==============================] - 0s 1ms/step - loss: 0.4179 - accuracy: 0.8267\n",
      "Epoch 36/50\n",
      "30/30 [==============================] - 0s 971us/step - loss: 0.4152 - accuracy: 0.8267\n",
      "Epoch 37/50\n",
      "30/30 [==============================] - 0s 792us/step - loss: 0.4126 - accuracy: 0.8333\n",
      "Epoch 38/50\n",
      "30/30 [==============================] - 0s 896us/step - loss: 0.4101 - accuracy: 0.8333\n",
      "Epoch 39/50\n",
      "30/30 [==============================] - 0s 688us/step - loss: 0.4080 - accuracy: 0.8333\n",
      "Epoch 40/50\n",
      "30/30 [==============================] - 0s 1ms/step - loss: 0.4060 - accuracy: 0.8367\n",
      "Epoch 41/50\n",
      "30/30 [==============================] - 0s 1ms/step - loss: 0.4036 - accuracy: 0.8367\n",
      "Epoch 42/50\n",
      "30/30 [==============================] - 0s 711us/step - loss: 0.4015 - accuracy: 0.8367\n",
      "Epoch 43/50\n",
      "30/30 [==============================] - 0s 772us/step - loss: 0.3998 - accuracy: 0.8400\n",
      "Epoch 44/50\n",
      "30/30 [==============================] - 0s 894us/step - loss: 0.3980 - accuracy: 0.8400\n",
      "Epoch 45/50\n",
      "30/30 [==============================] - ETA: 0s - loss: 0.0982 - accuracy: 1.00 - 0s 726us/step - loss: 0.3963 - accuracy: 0.8400\n",
      "Epoch 46/50\n",
      "30/30 [==============================] - 0s 927us/step - loss: 0.3949 - accuracy: 0.8400\n",
      "Epoch 47/50\n",
      "30/30 [==============================] - 0s 702us/step - loss: 0.3929 - accuracy: 0.8433\n",
      "Epoch 48/50\n",
      "30/30 [==============================] - 0s 1ms/step - loss: 0.3914 - accuracy: 0.8333\n",
      "Epoch 49/50\n",
      "30/30 [==============================] - 0s 791us/step - loss: 0.3899 - accuracy: 0.8267\n",
      "Epoch 50/50\n",
      "30/30 [==============================] - 0s 1ms/step - loss: 0.3886 - accuracy: 0.8333\n"
     ]
    },
    {
     "data": {
      "text/plain": [
       "<keras.callbacks.History at 0x23291505790>"
      ]
     },
     "execution_count": 14,
     "metadata": {},
     "output_type": "execute_result"
    }
   ],
   "source": [
    "#Ajustamos la red neuronal\n",
    "classifier.fit(X_train_scaled, y_train,  batch_size = 10, epochs = 50)"
   ]
  },
  {
   "cell_type": "code",
   "execution_count": 15,
   "id": "2061126a",
   "metadata": {},
   "outputs": [],
   "source": [
    "#Prediccion con el conjunto de pruebas\n",
    "y_pred  = classifier.predict(X_val_scaled)\n",
    "y_pred = (y_pred>0.5)"
   ]
  },
  {
   "cell_type": "markdown",
   "id": "2a714df8",
   "metadata": {},
   "source": [
    "## Evaluación de los resultados del modelo"
   ]
  },
  {
   "cell_type": "code",
   "execution_count": 16,
   "id": "44f84ac6",
   "metadata": {},
   "outputs": [
    {
     "name": "stdout",
     "output_type": "stream",
     "text": [
      "Accuracy: 0.870\n"
     ]
    }
   ],
   "source": [
    "#Validación del accuracy\n",
    "from sklearn.metrics import accuracy_score\n",
    "print('Accuracy: {:.3f}'.format(accuracy_score(y_val, y_pred)))"
   ]
  },
  {
   "cell_type": "code",
   "execution_count": 17,
   "id": "2a4e5a29",
   "metadata": {},
   "outputs": [
    {
     "data": {
      "text/plain": [
       "array([[59,  9],\n",
       "       [ 4, 28]], dtype=int64)"
      ]
     },
     "execution_count": 17,
     "metadata": {},
     "output_type": "execute_result"
    }
   ],
   "source": [
    "#Validación de la matriz de confusión\n",
    "from sklearn.metrics import confusion_matrix\n",
    "confusion_matrix(y_val, y_pred)"
   ]
  },
  {
   "cell_type": "code",
   "execution_count": 18,
   "id": "fe73fb2a",
   "metadata": {},
   "outputs": [
    {
     "data": {
      "text/plain": [
       "<AxesSubplot:>"
      ]
     },
     "execution_count": 18,
     "metadata": {},
     "output_type": "execute_result"
    },
    {
     "data": {
      "image/png": "[encoded data removed]",
      "text/plain": [
       "<Figure size 432x288 with 2 Axes>"
      ]
     },
     "metadata": {
      "needs_background": "light"
     },
     "output_type": "display_data"
    }
   ],
   "source": [
    "#Representación gráfica de los resultados de la matriz de confusión con el conjunto de pruebas\n",
    "cm = confusion_matrix(y_val, y_pred)\n",
    "sns.heatmap(cm, annot=True)\n"
   ]
  },
  {
   "cell_type": "code",
   "execution_count": 19,
   "id": "d5e249f6",
   "metadata": {},
   "outputs": [
    {
     "name": "stdout",
     "output_type": "stream",
     "text": [
      "[[59  9]\n",
      " [ 4 28]]\n",
      "              precision    recall  f1-score   support\n",
      "\n",
      "           0       0.94      0.87      0.90        68\n",
      "           1       0.76      0.88      0.81        32\n",
      "\n",
      "    accuracy                           0.87       100\n",
      "   macro avg       0.85      0.87      0.86       100\n",
      "weighted avg       0.88      0.87      0.87       100\n",
      "\n"
     ]
    }
   ],
   "source": [
    "#Descripción de los resultados de diferentes métricas de medición sobre el modelo entrenado y probado\n",
    "from sklearn.metrics import confusion_matrix,classification_report,plot_confusion_matrix\n",
    "print(confusion_matrix(y_val, y_pred))\n",
    "print(classification_report(y_val, y_pred))"
   ]
  },
  {
   "cell_type": "code",
   "execution_count": null,
   "id": "4289ae94",
   "metadata": {},
   "outputs": [],
   "source": []
  }
 ],
 "metadata": {
  "kernelspec": {
   "display_name": "Python 3",
   "language": "python",
   "name": "python3"
  },
  "language_info": {
   "codemirror_mode": {
    "name": "ipython",
    "version": 3
   },
   "file_extension": ".py",
   "mimetype": "text/x-python",
   "name": "python",
   "nbconvert_exporter": "python",
   "pygments_lexer": "ipython3",
   "version": "3.8.8"
  }
 },
 "nbformat": 4,
 "nbformat_minor": 5
}
